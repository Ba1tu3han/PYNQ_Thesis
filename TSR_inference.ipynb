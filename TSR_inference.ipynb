{
 "cells": [
  {
   "cell_type": "markdown",
   "metadata": {},
   "source": [
    "# Preparation"
   ]
  },
  {
   "cell_type": "markdown",
   "metadata": {},
   "source": [
    "Run once the unzip command below"
   ]
  },
  {
   "cell_type": "code",
   "execution_count": 2,
   "metadata": {},
   "outputs": [
    {
     "name": "stdout",
     "output_type": "stream",
     "text": [
      "Archive:  deploy4.zip\n",
      "   creating: finn_demo_4/deploy/\n",
      "   creating: finn_demo_4/deploy/bitfile/\n",
      "  inflating: finn_demo_4/deploy/bitfile/finn-accel.bit  \n",
      "  inflating: finn_demo_4/deploy/bitfile/finn-accel.hwh  \n",
      "   creating: finn_demo_4/deploy/driver/\n",
      "  inflating: finn_demo_4/deploy/driver/validate.py  \n",
      "  inflating: finn_demo_4/deploy/driver/driver_base.py  \n",
      "  inflating: finn_demo_4/deploy/driver/driver.py  \n",
      "   creating: finn_demo_4/deploy/driver/runtime_weights/\n",
      "   creating: finn_demo_4/deploy/driver/finn/\n",
      "   creating: finn_demo_4/deploy/driver/finn/util/\n",
      "  inflating: finn_demo_4/deploy/driver/finn/util/__init__.py  \n",
      "  inflating: finn_demo_4/deploy/driver/finn/util/data_packing.py  \n",
      "   creating: finn_demo_4/deploy/driver/qonnx/\n",
      "   creating: finn_demo_4/deploy/driver/qonnx/core/\n",
      "  inflating: finn_demo_4/deploy/driver/qonnx/core/__init__.py  \n",
      "  inflating: finn_demo_4/deploy/driver/qonnx/core/datatype.py  \n",
      "   creating: finn_demo_4/deploy/driver/qonnx/util/\n",
      "  inflating: finn_demo_4/deploy/driver/qonnx/util/__init__.py  \n",
      "  inflating: finn_demo_4/deploy/driver/qonnx/util/basic.py  \n"
     ]
    }
   ],
   "source": [
    "!unzip deploy4.zip -d finn_demo_4"
   ]
  },
  {
   "cell_type": "code",
   "execution_count": 2,
   "metadata": {},
   "outputs": [
    {
     "name": "stdout",
     "output_type": "stream",
     "text": [
      "/home/xilinx/jupyter_notebooks/PYNQ_inference/finn-demo/deploy/driver\n"
     ]
    }
   ],
   "source": [
    "cd finn-demo/deploy/driver"
   ]
  },
  {
   "cell_type": "code",
   "execution_count": 3,
   "metadata": {},
   "outputs": [
    {
     "name": "stdout",
     "output_type": "stream",
     "text": [
      "driver_base.py  driver.py  \u001b[0m\u001b[01;34mfinn\u001b[0m/  \u001b[01;34mqonnx\u001b[0m/  \u001b[01;34mruntime_weights\u001b[0m/  validate.py\r\n"
     ]
    }
   ],
   "source": [
    "ls"
   ]
  },
  {
   "cell_type": "code",
   "execution_count": 5,
   "metadata": {},
   "outputs": [
    {
     "name": "stdout",
     "output_type": "stream",
     "text": [
      "Requirement already satisfied: bitstring in /usr/local/lib/python3.6/dist-packages (3.1.9)\n",
      "\u001b[33mWARNING: Running pip as the 'root' user can result in broken permissions and conflicting behaviour with the system package manager. It is recommended to use a virtual environment instead: https://pip.pypa.io/warnings/venv\u001b[0m\n"
     ]
    }
   ],
   "source": [
    "!sudo python3.6 -m pip install bitstring"
   ]
  },
  {
   "cell_type": "markdown",
   "metadata": {},
   "source": [
    "# Driver Throughput Test"
   ]
  },
  {
   "cell_type": "code",
   "execution_count": 7,
   "metadata": {},
   "outputs": [
    {
     "name": "stdout",
     "output_type": "stream",
     "text": [
      "Results written to nw_metrics.txt\r\n"
     ]
    }
   ],
   "source": [
    "!sudo python3.6 driver.py  --bitfile ../bitfile/finn-accel.bit --exec_mode throughput_test"
   ]
  },
  {
   "cell_type": "code",
   "execution_count": 8,
   "metadata": {},
   "outputs": [
    {
     "name": "stdout",
     "output_type": "stream",
     "text": [
      "{'runtime[ms]': 0.5011558532714844, 'throughput[images/s]': 1995.3872502378688, 'DRAM_in_bandwidth[MB/s]': 6.129829632730733, 'DRAM_out_bandwidth[MB/s]': 0.1716033035204567, 'fclk[mhz]': 100.0, 'batch_size': 1, 'fold_input[ms]': 0.10228157043457031, 'pack_input[ms]': 0.10585784912109375, 'copy_input_data_to_device[ms]': 1.5823841094970703, 'copy_output_data_from_device[ms]': 0.5257129669189453, 'unpack_output[ms]': 31.477928161621094, 'unfold_output[ms]': 0.06651878356933594}"
     ]
    }
   ],
   "source": [
    "!cat nw_metrics.txt"
   ]
  },
  {
   "cell_type": "markdown",
   "metadata": {},
   "source": [
    "# Load the GTSRB dataset"
   ]
  },
  {
   "cell_type": "code",
   "execution_count": 7,
   "metadata": {},
   "outputs": [],
   "source": [
    "#!pip install urllib"
   ]
  },
  {
   "cell_type": "code",
   "execution_count": 9,
   "metadata": {},
   "outputs": [
    {
     "name": "stdout",
     "output_type": "stream",
     "text": [
      "Archive:  /tmp/traffic-signs-data.zip\n",
      "  inflating: /tmp/test.p             \n",
      "  inflating: /tmp/train.p            \n",
      "  inflating: /tmp/valid.p            \n"
     ]
    }
   ],
   "source": [
    "from os import path\n",
    "import urllib\n",
    "import urllib.request\n",
    "import numpy as np\n",
    "dataset_local = \"/tmp/traffic-signs-data.zip\"\n",
    "if not path.isfile(dataset_local):\n",
    "    dataset_url = \"https://d17h27t6h515a5.cloudfront.net/topher/2017/February/5898cd6f_traffic-signs-data/traffic-signs-data.zip\"\n",
    "    urllib.request.urlretrieve(dataset_url, dataset_local)\n",
    "    ! unzip {dataset_local} -d /tmp\n",
    "\n",
    "dataset_dict = np.load(\"/tmp/test.p\", allow_pickle=True)\n",
    "testx = dataset_dict[\"features\"]\n",
    "testy = dataset_dict[\"labels\"]"
   ]
  },
  {
   "cell_type": "code",
   "execution_count": 10,
   "metadata": {},
   "outputs": [],
   "source": [
    "gtsrb_classes = [\n",
    "    '20 Km/h', \n",
    "    '30 Km/h', \n",
    "    '50 Km/h', \n",
    "    '60 Km/h', \n",
    "    '70 Km/h', \n",
    "    '80 Km/h', \n",
    "    'End 80 Km/h', \n",
    "    '100 Km/h', \n",
    "    '120 Km/h', \n",
    "    'No overtaking', \n",
    "    'No overtaking for large trucks', \n",
    "    'Priority crossroad', \n",
    "    'Priority road', \n",
    "    'Give way', \n",
    "    'Stop', \n",
    "    'No vehicles', \n",
    "    'Prohibited for vehicles with a permitted gross weight over 3.5t including their trailers, and for tractors except passenger cars and buses', \n",
    "    'No entry for vehicular traffic', \n",
    "    'Danger Ahead', \n",
    "    'Bend to left', \n",
    "    'Bend to right', \n",
    "    'Double bend (first to left)', \n",
    "    'Uneven road', \n",
    "    'Road slippery when wet or dirty', \n",
    "    'Road narrows (right)', \n",
    "    'Road works', \n",
    "    'Traffic signals', \n",
    "    'Pedestrians in road ahead', \n",
    "    'Children crossing ahead', \n",
    "    'Bicycles prohibited', \n",
    "    'Risk of snow or ice', \n",
    "    'Wild animals', \n",
    "    'End of all speed and overtaking restrictions', \n",
    "    'Turn right ahead', \n",
    "    'Turn left ahead', \n",
    "    'Ahead only', \n",
    "    'Ahead or right only', \n",
    "    'Ahead or left only', \n",
    "    'Pass by on right', \n",
    "    'Pass by on left', \n",
    "    'Roundabout', \n",
    "    'End of no-overtaking zone', \n",
    "    'End of no-overtaking zone for vehicles with a permitted gross weight over 3.5t including their trailers, and for tractors except passenger cars and buses', \n",
    "    'Not a roadsign'\n",
    "]"
   ]
  },
  {
   "cell_type": "code",
   "execution_count": 11,
   "metadata": {},
   "outputs": [
    {
     "name": "stdout",
     "output_type": "stream",
     "text": [
      "Dataset shape is (12630, 32, 32, 3)\n"
     ]
    }
   ],
   "source": [
    "print(\"Dataset shape is \" + str(testx.shape))"
   ]
  },
  {
   "cell_type": "markdown",
   "metadata": {},
   "source": [
    "# Classify a single image"
   ]
  },
  {
   "cell_type": "code",
   "execution_count": 41,
   "metadata": {},
   "outputs": [],
   "source": [
    "n = 12345\n",
    "test_single_x = testx[n]\n",
    "test_single_y = testy[n]"
   ]
  },
  {
   "cell_type": "code",
   "execution_count": 42,
   "metadata": {},
   "outputs": [
    {
     "name": "stdout",
     "output_type": "stream",
     "text": [
      "(32, 32, 3)\n",
      "<class 'numpy.ndarray'>\n"
     ]
    }
   ],
   "source": [
    "print(test_single_x.shape)\n",
    "print(type(test_single_x))"
   ]
  },
  {
   "cell_type": "code",
   "execution_count": 43,
   "metadata": {},
   "outputs": [
    {
     "data": {
      "image/png": "[encoded data removed]",
      "text/plain": [
       "<matplotlib.figure.Figure at 0xaf768c50>"
      ]
     },
     "metadata": {},
     "output_type": "display_data"
    }
   ],
   "source": [
    "%matplotlib inline\n",
    "from matplotlib import pyplot as plt\n",
    "\n",
    "plt.imshow(test_single_x)\n",
    "plt.show()"
   ]
  },
  {
   "cell_type": "code",
   "execution_count": 52,
   "metadata": {},
   "outputs": [
    {
     "name": "stderr",
     "output_type": "stream",
     "text": [
      "100%|██████████| 10/10 [01:11<00:00,  7.18s/it]\n"
     ]
    }
   ],
   "source": [
    "import numpy as np\n",
    "from tqdm import tqdm\n",
    "n_sample = 10\n",
    "\n",
    "gold_labels = []\n",
    "predicts = []\n",
    "\n",
    "for i in tqdm(range(n_sample)):\n",
    "    test_single_x = testx[i]\n",
    "    test_single_y = testy[i]\n",
    "    \n",
    "    np.save(\"input.npy\", test_single_x.reshape((1, 32, 32, 3)))\n",
    "    !sudo python3.6 driver.py --bitfile ../bitfile/finn-accel.bit --inputfile input.npy --outputfile output.npy --exec_mode execute\n",
    "\n",
    "    # Specify the path to your output.npy file\n",
    "    output_file_path = 'output.npy'\n",
    "\n",
    "    # Load the contents of the .npy file\n",
    "    output_data = np.load(output_file_path)\n",
    "\n",
    "    predicted = np.argmax(output_data)\n",
    "    \n",
    "    gold_labels.append(test_single_y)\n",
    "    predicts.append(predicted)"
   ]
  },
  {
   "cell_type": "code",
   "execution_count": null,
   "metadata": {},
   "outputs": [
    {
     "name": "stdout",
     "output_type": "stream",
     "text": [
      "Collecting scikit-learn\n",
      "  Using cached scikit-learn-0.24.2.tar.gz (7.5 MB)\n",
      "  Preparing metadata (setup.py) ... \u001b[?25l-"
     ]
    }
   ],
   "source": [
    "!python3.6 -m pip install scikit-learn"
   ]
  },
  {
   "cell_type": "code",
   "execution_count": 56,
   "metadata": {},
   "outputs": [
    {
     "name": "stdout",
     "output_type": "stream",
     "text": [
      "[16, 1, 38, 33, 11, 38, 18, 12, 25, 35] \n",
      " [5, 38, 34, 36, 11, 38, 18, 5, 33, 33]\n"
     ]
    }
   ],
   "source": [
    "print(gold_labels, '\\n', predicts)"
   ]
  },
  {
   "cell_type": "code",
   "execution_count": 54,
   "metadata": {},
   "outputs": [
    {
     "ename": "ModuleNotFoundError",
     "evalue": "No module named 'sklearn'",
     "output_type": "error",
     "traceback": [
      "\u001b[0;31m---------------------------------------------------------------------------\u001b[0m",
      "\u001b[0;31mModuleNotFoundError\u001b[0m                       Traceback (most recent call last)",
      "\u001b[0;32m<ipython-input-54-eb64d00b2802>\u001b[0m in \u001b[0;36m<module>\u001b[0;34m()\u001b[0m\n\u001b[0;32m----> 1\u001b[0;31m \u001b[0;32mfrom\u001b[0m \u001b[0msklearn\u001b[0m \u001b[0;32mimport\u001b[0m \u001b[0mclassification_report\u001b[0m\u001b[0;34m\u001b[0m\u001b[0m\n\u001b[0m\u001b[1;32m      2\u001b[0m \u001b[0;34m\u001b[0m\u001b[0m\n\u001b[1;32m      3\u001b[0m \u001b[0mclassification_report\u001b[0m\u001b[0;34m(\u001b[0m\u001b[0mgold_labels\u001b[0m\u001b[0;34m,\u001b[0m \u001b[0mpredicts\u001b[0m\u001b[0;34m)\u001b[0m\u001b[0;34m\u001b[0m\u001b[0m\n",
      "\u001b[0;31mModuleNotFoundError\u001b[0m: No module named 'sklearn'"
     ]
    }
   ],
   "source": [
    "from sklearn import classification_report\n",
    "\n",
    "classification_report(gold_labels, predicts)"
   ]
  },
  {
   "cell_type": "code",
   "execution_count": 44,
   "metadata": {
    "scrolled": true
   },
   "outputs": [
    {
     "name": "stdout",
     "output_type": "stream",
     "text": [
      "Expected class is:\n",
      "Bend to left\n"
     ]
    }
   ],
   "source": [
    "print(\"Expected class is:\\n%s\" % (gtsrb_classes[test_single_y]))"
   ]
  },
  {
   "cell_type": "code",
   "execution_count": 45,
   "metadata": {},
   "outputs": [],
   "source": [
    "def ishape_normal(ind=0):\n",
    "    ret = list([(1, 32, 32, 3)][ind])\n",
    "    ret[0] = 1\n",
    "    return tuple(ret)"
   ]
  },
  {
   "cell_type": "code",
   "execution_count": 46,
   "metadata": {},
   "outputs": [],
   "source": [
    "np.save(\"input.npy\", test_single_x.reshape((1, 32, 32, 3)))\n"
   ]
  },
  {
   "cell_type": "code",
   "execution_count": 47,
   "metadata": {},
   "outputs": [],
   "source": [
    "#test_single_x.reshape(accel.ishape_normal())\n",
    "#accel_y = accel.execute(test_single_x.reshape(accel.ishape_normal()))\n",
    "#print(\"Accelerator result is:\\n%s\" % (gtsrb_classes[np.argmax(accel_y)]))"
   ]
  },
  {
   "cell_type": "code",
   "execution_count": 48,
   "metadata": {},
   "outputs": [],
   "source": []
  },
  {
   "cell_type": "code",
   "execution_count": 49,
   "metadata": {},
   "outputs": [],
   "source": [
    "!sudo python3.6 driver.py --bitfile ../bitfile/finn-accel.bit --inputfile input.npy --outputfile output.npy --exec_mode execute"
   ]
  },
  {
   "cell_type": "code",
   "execution_count": 50,
   "metadata": {},
   "outputs": [
    {
     "name": "stdout",
     "output_type": "stream",
     "text": [
      "[[122. 128. 109. 145. 121. 151. 121. 101. 116. 140. 126. 116. 121. 149.\n",
      "  129. 137. 119. 140. 156. 131. 134. 118. 124. 123. 120. 129. 125. 129.\n",
      "  134. 146. 130. 140. 142. 133. 134. 109. 129. 107. 141. 111.  99. 134.\n",
      "  112.]]\n"
     ]
    }
   ],
   "source": [
    "import numpy as np\n",
    "\n",
    "# Specify the path to your output.npy file\n",
    "output_file_path = 'output.npy'\n",
    "\n",
    "# Load the contents of the .npy file\n",
    "output_data = np.load(output_file_path)\n",
    "\n",
    "# Print the contents of the .npy file\n",
    "print(output_data)\n"
   ]
  },
  {
   "cell_type": "code",
   "execution_count": 51,
   "metadata": {},
   "outputs": [
    {
     "name": "stdout",
     "output_type": "stream",
     "text": [
      "Danger Ahead\n",
      "18\n"
     ]
    }
   ],
   "source": [
    "print(gtsrb_classes[np.argmax(output_data)])\n",
    "print(np.argmax(output_data))"
   ]
  },
  {
   "cell_type": "markdown",
   "metadata": {},
   "source": [
    "# Validation"
   ]
  },
  {
   "cell_type": "code",
   "execution_count": null,
   "metadata": {},
   "outputs": [],
   "source": [
    "!sudo python3.6 validate.py --batchsize 1000 --dataset /tmp/test.p  --bitfile bitfile_name"
   ]
  },
  {
   "cell_type": "markdown",
   "metadata": {},
   "source": [
    "# Benchmark"
   ]
  },
  {
   "cell_type": "code",
   "execution_count": 59,
   "metadata": {},
   "outputs": [
    {
     "name": "stdout",
     "output_type": "stream",
     "text": [
      "Results written to nw_metrics.txt\n",
      "{'runtime[ms]': 82.08155632019043, 'throughput[images/s]': 12183.004865296638, 'DRAM_in_bandwidth[MB/s]': 37.42619094619127, 'DRAM_out_bandwidth[MB/s]': 1.0477384184155107, 'fclk[mhz]': 100.0, 'batch_size': 1000, 'fold_input[ms]': 0.1671314239501953, 'pack_input[ms]': 0.13518333435058594, 'copy_input_data_to_device[ms]': 21.0418701171875, 'copy_output_data_from_device[ms]': 1.0249614715576172, 'unpack_output[ms]': 36047.640800476074, 'unfold_output[ms]': 0.09059906005859375}"
     ]
    }
   ],
   "source": [
    "!sudo python3.6 driver.py --exec_mode throughput_test --bitfile ../bitfile/finn-accel.bit  --batchsize 1000\n",
    "!cat nw_metrics.txt"
   ]
  },
  {
   "cell_type": "code",
   "execution_count": null,
   "metadata": {},
   "outputs": [],
   "source": [
    "#accel.batch_size = 100\n",
    "#accel.throughput_test()"
   ]
  }
 ],
 "metadata": {
  "kernelspec": {
   "display_name": "Python 3",
   "language": "python",
   "name": "python3"
  },
  "language_info": {
   "codemirror_mode": {
    "name": "ipython",
    "version": 3
   },
   "file_extension": ".py",
   "mimetype": "text/x-python",
   "name": "python",
   "nbconvert_exporter": "python",
   "pygments_lexer": "ipython3",
   "version": "3.6.5"
  }
 },
 "nbformat": 4,
 "nbformat_minor": 2
}
