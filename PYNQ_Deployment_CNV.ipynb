{
 "cells": [
  {
   "cell_type": "code",
   "execution_count": 6,
   "metadata": {},
   "outputs": [
    {
     "name": "stdout",
     "output_type": "stream",
     "text": [
      "Archive:  deploy-on-pynq.zip\n",
      "   creating: finn-cnv-demo/finn/\n",
      "   creating: finn-cnv-demo/qonnx/\n",
      "   creating: finn-cnv-demo/runtime_weights/\n",
      "  inflating: finn-cnv-demo/validate.py  \n",
      "  inflating: finn-cnv-demo/resizer.hwh  \n",
      "  inflating: finn-cnv-demo/driver_base.py  \n",
      "  inflating: finn-cnv-demo/input.npy  \n",
      "  inflating: finn-cnv-demo/resizer.bit  \n",
      "  inflating: finn-cnv-demo/driver.py  \n",
      "   creating: finn-cnv-demo/finn/util/\n",
      "  inflating: finn-cnv-demo/finn/util/__init__.py  \n",
      "  inflating: finn-cnv-demo/finn/util/data_packing.py  \n",
      "   creating: finn-cnv-demo/qonnx/core/\n",
      "   creating: finn-cnv-demo/qonnx/util/\n",
      "  inflating: finn-cnv-demo/qonnx/core/__init__.py  \n",
      "  inflating: finn-cnv-demo/qonnx/core/datatype.py  \n",
      "  inflating: finn-cnv-demo/qonnx/util/__init__.py  \n",
      "  inflating: finn-cnv-demo/qonnx/util/basic.py  \n",
      "/home/xilinx/jupyter_notebooks/PYNQ_Deployment/finn-cnv-demo\n",
      "Requirement already satisfied: bitstring in /usr/local/lib/python3.6/dist-packages (3.1.9)\n",
      "\u001b[33mWARNING: Running pip as the 'root' user can result in broken permissions and conflicting behaviour with the system package manager. It is recommended to use a virtual environment instead: https://pip.pypa.io/warnings/venv\u001b[0m\n"
     ]
    }
   ],
   "source": [
    "!unzip deploy-on-pynq.zip -d finn-cnv-demo\n",
    "%cd finn-cnv-demo\n",
    "!sudo python3 -m pip install bitstring\n",
    "!sudo python3 driver.py --exec_mode=execute --batchsize=1 --bitfile=resizer.bit --inputfile=input.npy"
   ]
  },
  {
   "cell_type": "code",
   "execution_count": 8,
   "metadata": {},
   "outputs": [
    {
     "name": "stdout",
     "output_type": "stream",
     "text": [
      "Collecting dataset_loading\n",
      "  Cloning https://github.com/fbcotter/dataset_loading.git (to revision 0.0.4) to /tmp/pip-install-cnkwt9_i/dataset-loading_e143488f6a4847cd970921790df56584\n",
      "  Running command git clone --filter=blob:none -q https://github.com/fbcotter/dataset_loading.git /tmp/pip-install-cnkwt9_i/dataset-loading_e143488f6a4847cd970921790df56584\n",
      "  Running command git checkout -q 5b9faa226e5f7c857579d31cdd9acde8cdfb816f\n",
      "  Resolved https://github.com/fbcotter/dataset_loading.git to commit 5b9faa226e5f7c857579d31cdd9acde8cdfb816f\n",
      "  Preparing metadata (setup.py) ... \u001b[?25ldone\n",
      "\u001b[?25hRequirement already satisfied: Pillow in /usr/lib/python3/dist-packages (from dataset_loading) (5.1.0)\n",
      "Requirement already satisfied: scipy in /usr/lib/python3/dist-packages (from dataset_loading) (0.19.1)\n",
      "\u001b[33mWARNING: Running pip as the 'root' user can result in broken permissions and conflicting behaviour with the system package manager. It is recommended to use a virtual environment instead: https://pip.pypa.io/warnings/venv\u001b[0m\n"
     ]
    }
   ],
   "source": [
    "!sudo pip3 install git+https://github.com/fbcotter/dataset_loading.git@0.0.4#egg=dataset_loading\n"
   ]
  },
  {
   "cell_type": "code",
   "execution_count": 10,
   "metadata": {},
   "outputs": [
    {
     "name": "stdout",
     "output_type": "stream",
     "text": [
      "Downloading Python CIFAR10 Data.\n",
      "Download URL: https://www.cs.toronto.edu/~kriz/cifar-10-python.tar.gz\n",
      "Download DIR: /tmp\n",
      ">> Downloading cifar-10-python.tar.gz 100.0%\n",
      "Extracting Python CIFAR10 data.\n",
      "Files extracted\n",
      "batch 1 / 10 : total OK 98 NOK 902\n",
      "batch 2 / 10 : total OK 192 NOK 1808\n",
      "batch 3 / 10 : total OK 285 NOK 2715\n",
      "batch 4 / 10 : total OK 361 NOK 3639\n",
      "batch 5 / 10 : total OK 438 NOK 4562\n",
      "batch 6 / 10 : total OK 534 NOK 5466\n",
      "batch 7 / 10 : total OK 623 NOK 6377\n",
      "batch 8 / 10 : total OK 732 NOK 7268\n",
      "batch 9 / 10 : total OK 846 NOK 8154\n",
      "batch 10 / 10 : total OK 935 NOK 9065\n",
      "Final accuracy: 9.350000\n"
     ]
    }
   ],
   "source": [
    "!sudo python3 validate.py --dataset cifar10 --batchsize 1000"
   ]
  },
  {
   "cell_type": "code",
   "execution_count": null,
   "metadata": {},
   "outputs": [],
   "source": []
  }
 ],
 "metadata": {
  "kernelspec": {
   "display_name": "Python 3",
   "language": "python",
   "name": "python3"
  },
  "language_info": {
   "codemirror_mode": {
    "name": "ipython",
    "version": 3
   },
   "file_extension": ".py",
   "mimetype": "text/x-python",
   "name": "python",
   "nbconvert_exporter": "python",
   "pygments_lexer": "ipython3",
   "version": "3.6.5"
  }
 },
 "nbformat": 4,
 "nbformat_minor": 2
}
