{
 "cells": [
  {
   "cell_type": "code",
   "execution_count": 1,
   "metadata": {},
   "outputs": [],
   "source": [
    "#!unzip deploy-on-pynq-cnv-72.zip -d finn-cnv-demo-72"
   ]
  },
  {
   "cell_type": "code",
   "execution_count": 2,
   "metadata": {},
   "outputs": [],
   "source": [
    "#!sudo python3 -m pip install bitstring"
   ]
  },
  {
   "cell_type": "code",
   "execution_count": 3,
   "metadata": {},
   "outputs": [
    {
     "name": "stdout",
     "output_type": "stream",
     "text": [
      "/home/xilinx/jupyter_notebooks\r\n"
     ]
    }
   ],
   "source": [
    "!pwd"
   ]
  },
  {
   "cell_type": "code",
   "execution_count": 4,
   "metadata": {},
   "outputs": [
    {
     "name": "stdout",
     "output_type": "stream",
     "text": [
      "/home/xilinx/jupyter_notebooks/finn_demo_GTSRB\n"
     ]
    }
   ],
   "source": [
    "cd finn_demo_GTSRB"
   ]
  },
  {
   "cell_type": "code",
   "execution_count": 5,
   "metadata": {},
   "outputs": [
    {
     "name": "stdout",
     "output_type": "stream",
     "text": [
      "driver_base.py\tinput.npy\t__pycache__  resizer.hwh\t validate.py\r\n",
      "driver.py\tnw_metrics.txt\tqonnx\t     runtime_weights\r\n",
      "finn\t\toutput.npy\tresizer.bit  sds_trace_data.dat\r\n"
     ]
    }
   ],
   "source": [
    "!ls"
   ]
  },
  {
   "cell_type": "code",
   "execution_count": 6,
   "metadata": {},
   "outputs": [],
   "source": [
    "#!sudo python3 driver.py --exec_mode=execute --batchsize=1 --bitfile=resizer.bit --inputfile=input.npy"
   ]
  },
  {
   "cell_type": "code",
   "execution_count": 7,
   "metadata": {},
   "outputs": [],
   "source": [
    "#!sudo pip3 install git+https://github.com/fbcotter/dataset_loading.git@0.0.4#egg=dataset_loading"
   ]
  },
  {
   "cell_type": "code",
   "execution_count": 16,
   "metadata": {},
   "outputs": [
    {
     "name": "stdout",
     "output_type": "stream",
     "text": [
      "Tar File found in dest_dir. Not Downloading again\n",
      "Extracting Python CIFAR10 data.\n",
      "Files extracted\n",
      "shape: (10000, 32, 32, 3)\n",
      "total: 10000, bsize: 1000 n_batches: 10\n",
      "batch 1 / 10 : total OK 20 NOK 980\n",
      "batch 2 / 10 : total OK 39 NOK 1961\n",
      "batch 3 / 10 : total OK 52 NOK 2948\n",
      "batch 4 / 10 : total OK 67 NOK 3933\n",
      "batch 5 / 10 : total OK 83 NOK 4917\n",
      "batch 6 / 10 : total OK 99 NOK 5901\n",
      "batch 7 / 10 : total OK 122 NOK 6878\n",
      "batch 8 / 10 : total OK 141 NOK 7859\n",
      "batch 9 / 10 : total OK 167 NOK 8833\n",
      "batch 10 / 10 : total OK 182 NOK 9818\n",
      "Final accuracy: 1.820000\n"
     ]
    }
   ],
   "source": [
    "#!sudo python3 validate.py --dataset cifar10 --batchsize 1000 --bitfile=resizer.bit"
   ]
  },
  {
   "cell_type": "code",
   "execution_count": 24,
   "metadata": {},
   "outputs": [],
   "source": [
    "import numpy as np\n",
    "from driver import io_shape_dict\n",
    "from driver_base import FINNExampleOverlay\n",
    "\n",
    "bitfile = 'resizer.bit'\n",
    "platform = 'zynq-iodma'\n",
    "bsize = 421\n",
    "\n",
    "driver = FINNExampleOverlay(\n",
    "    bitfile_name=bitfile,\n",
    "    platform=platform,\n",
    "    io_shape_dict=io_shape_dict,\n",
    "    batch_size=bsize,\n",
    "    runtime_weight_dir=\"runtime_weights/\",\n",
    ")"
   ]
  },
  {
   "cell_type": "code",
   "execution_count": 25,
   "metadata": {},
   "outputs": [],
   "source": [
    "from os import path\n",
    "import urllib\n",
    "import urllib.request\n",
    "import numpy as np\n",
    "dataset_local = \"/tmp/traffic-signs-data.zip\"\n",
    "if not path.isfile(dataset_local):\n",
    "    dataset_url = \"https://d17h27t6h515a5.cloudfront.net/topher/2017/February/5898cd6f_traffic-signs-data/traffic-signs-data.zip\"\n",
    "    urllib.request.urlretrieve(dataset_url, dataset_local)\n",
    "    ! unzip {dataset_local} -d /tmp\n",
    "\n",
    "dataset_dict = np.load(\"/tmp/test.p\", allow_pickle=True)\n",
    "testx = dataset_dict[\"features\"]\n",
    "testy = dataset_dict[\"labels\"]"
   ]
  },
  {
   "cell_type": "code",
   "execution_count": 26,
   "metadata": {},
   "outputs": [
    {
     "name": "stdout",
     "output_type": "stream",
     "text": [
      "total: 12630, bsize: 421 n_batches: 30\n",
      "batch 1 / 30 : total OK 399 NOK 22\n",
      "batch 2 / 30 : total OK 805 NOK 37\n",
      "batch 3 / 30 : total OK 1209 NOK 54\n",
      "batch 4 / 30 : total OK 1615 NOK 69\n",
      "batch 5 / 30 : total OK 2016 NOK 89\n",
      "batch 6 / 30 : total OK 2417 NOK 109\n",
      "batch 7 / 30 : total OK 2822 NOK 125\n",
      "batch 8 / 30 : total OK 3229 NOK 139\n",
      "batch 9 / 30 : total OK 3631 NOK 158\n",
      "batch 10 / 30 : total OK 4039 NOK 171\n",
      "batch 11 / 30 : total OK 4435 NOK 196\n",
      "batch 12 / 30 : total OK 4836 NOK 216\n",
      "batch 13 / 30 : total OK 5235 NOK 238\n",
      "batch 14 / 30 : total OK 5630 NOK 264\n",
      "batch 15 / 30 : total OK 6032 NOK 283\n",
      "batch 16 / 30 : total OK 6433 NOK 303\n",
      "batch 17 / 30 : total OK 6834 NOK 323\n",
      "batch 18 / 30 : total OK 7239 NOK 339\n",
      "batch 19 / 30 : total OK 7644 NOK 355\n",
      "batch 20 / 30 : total OK 8041 NOK 379\n",
      "batch 21 / 30 : total OK 8444 NOK 397\n",
      "batch 22 / 30 : total OK 8853 NOK 409\n",
      "batch 23 / 30 : total OK 9265 NOK 418\n",
      "batch 24 / 30 : total OK 9673 NOK 431\n",
      "batch 25 / 30 : total OK 10074 NOK 451\n",
      "batch 26 / 30 : total OK 10478 NOK 468\n",
      "batch 27 / 30 : total OK 10879 NOK 488\n",
      "batch 28 / 30 : total OK 11278 NOK 510\n",
      "batch 29 / 30 : total OK 11674 NOK 535\n",
      "batch 30 / 30 : total OK 12074 NOK 556\n",
      "Final accuracy: 95.597783\n"
     ]
    }
   ],
   "source": [
    "test_imgs = testx\n",
    "test_labels = testy\n",
    "\n",
    "ok = 0\n",
    "nok = 0\n",
    "total = test_imgs.shape[0]\n",
    "\n",
    "n_batches = int(total / bsize)\n",
    "print(f\"total: {total}, bsize: {bsize} n_batches: {n_batches}\")\n",
    "test_imgs = test_imgs.reshape(n_batches, bsize, -1)\n",
    "test_labels = test_labels.reshape(n_batches, bsize)\n",
    "\n",
    "for i in range(n_batches):\n",
    "    ibuf_normal = test_imgs[i].reshape(driver.ibuf_packed_device[0].shape)\n",
    "    exp = test_labels[i]\n",
    "    driver.copy_input_data_to_device(ibuf_normal)\n",
    "    driver.execute_on_buffers()\n",
    "    obuf_normal = np.empty_like(driver.obuf_packed_device[0])\n",
    "    driver.copy_output_data_from_device(obuf_normal)\n",
    "    ret = np.bincount(obuf_normal.flatten() == exp.flatten())\n",
    "    nok += ret[0]\n",
    "    ok += ret[1]\n",
    "    print(\"batch %d / %d : total OK %d NOK %d\" % (i + 1, n_batches, ok, nok))\n",
    "\n",
    "acc = 100.0 * ok / (total)\n",
    "print(\"Final accuracy: %f\" % acc)"
   ]
  },
  {
   "cell_type": "code",
   "execution_count": 28,
   "metadata": {},
   "outputs": [
    {
     "data": {
      "text/plain": [
       "{'DRAM_in_bandwidth[MB/s]': 5.698918717806503,\n",
       " 'DRAM_out_bandwidth[MB/s]': 0.0018551167701193045,\n",
       " 'batch_size': 1000,\n",
       " 'copy_input_data_to_device[ms]': 22.85146713256836,\n",
       " 'copy_output_data_from_device[ms]': 0.21004676818847656,\n",
       " 'fclk[mhz]': 100.0,\n",
       " 'fold_input[ms]': 0.13685226440429688,\n",
       " 'pack_input[ms]': 0.10061264038085938,\n",
       " 'runtime[ms]': 539.0496253967285,\n",
       " 'throughput[images/s]': 1855.1167701193044,\n",
       " 'unfold_output[ms]': 0.1964569091796875,\n",
       " 'unpack_output[ms]': 0.9667873382568359}"
      ]
     },
     "execution_count": 28,
     "metadata": {},
     "output_type": "execute_result"
    }
   ],
   "source": [
    "driver.batch_size = 1000\n",
    "driver.throughput_test()"
   ]
  },
  {
   "cell_type": "code",
   "execution_count": null,
   "metadata": {},
   "outputs": [],
   "source": []
  }
 ],
 "metadata": {
  "kernelspec": {
   "display_name": "Python 3",
   "language": "python",
   "name": "python3"
  },
  "language_info": {
   "codemirror_mode": {
    "name": "ipython",
    "version": 3
   },
   "file_extension": ".py",
   "mimetype": "text/x-python",
   "name": "python",
   "nbconvert_exporter": "python",
   "pygments_lexer": "ipython3",
   "version": "3.6.5"
  }
 },
 "nbformat": 4,
 "nbformat_minor": 2
}
