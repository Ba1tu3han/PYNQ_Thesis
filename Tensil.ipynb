{
 "cells": [
  {
   "cell_type": "markdown",
   "metadata": {},
   "source": [
    "# Tensil Pynq Driver and Libraries"
   ]
  },
  {
   "cell_type": "code",
   "execution_count": 33,
   "metadata": {},
   "outputs": [],
   "source": [
    "import sys\n",
    "sys.path.append('/home/xilinx')\n",
    "\n",
    "# Needed to run inference on TCU\n",
    "import time\n",
    "import numpy as np\n",
    "import pynq\n",
    "from pynq import Overlay\n",
    "from tcu_pynq.driver import Driver\n",
    "from tcu_pynq.architecture import pynqz1\n",
    "\n",
    "# Needed for unpacking and displaying image data\n",
    "%matplotlib inline\n",
    "import matplotlib.pyplot as plt\n",
    "import pickle"
   ]
  },
  {
   "cell_type": "markdown",
   "metadata": {},
   "source": [
    "# Path Check"
   ]
  },
  {
   "cell_type": "code",
   "execution_count": 42,
   "metadata": {},
   "outputs": [
    {
     "name": "stdout",
     "output_type": "stream",
     "text": [
      "cifar-10-batches-py\r\n",
      "jupyter_notebooks\r\n",
      "jupyter_notebooks_2024_03_17_14_25_17\r\n",
      "jupyter_notebooks_2024_03_17_14_28_02\r\n",
      "jupyter_notebooks_2024_03_17_14_41_00\r\n",
      "jupyter_notebooks_2024_03_17_14_43_44\r\n",
      "libssl1.1_1.1.1-1ubuntu2.1~18.04.22_arm64.deb\r\n",
      "pynq\r\n",
      "resnet20v2_cifar_onnx_pynqz1.tdata\r\n",
      "resnet20v2_cifar_onnx_pynqz1.tmodel\r\n",
      "resnet20v2_cifar_onnx_pynqz1.tprog\r\n",
      "REVISION\r\n",
      "tcu_pynq\r\n",
      "tensil_pynq2.bit\r\n",
      "tensil_pynq2.hwh\r\n",
      "tensil_pynqz1.bit\r\n",
      "tensil_pynqz2.bit\r\n"
     ]
    }
   ],
   "source": [
    "!cd /home/xilinx\n",
    "!ls"
   ]
  },
  {
   "cell_type": "markdown",
   "metadata": {},
   "source": [
    "# Overlay"
   ]
  },
  {
   "cell_type": "markdown",
   "metadata": {},
   "source": [
    "Note: .bit and .hwh filenames must be the same. Bit file depending on FPGA and Tensil IP, not the model."
   ]
  },
  {
   "cell_type": "code",
   "execution_count": 34,
   "metadata": {},
   "outputs": [],
   "source": [
    "overlay = Overlay('/home/xilinx/tensil_pynq2.bit')"
   ]
  },
  {
   "cell_type": "code",
   "execution_count": 35,
   "metadata": {},
   "outputs": [],
   "source": [
    "tcu = Driver(pynqz1, overlay.axi_dma_0)"
   ]
  },
  {
   "cell_type": "markdown",
   "metadata": {},
   "source": [
    "# Model"
   ]
  },
  {
   "cell_type": "code",
   "execution_count": 38,
   "metadata": {},
   "outputs": [],
   "source": [
    "tcu.load_model('/home/xilinx/resnet20v2_cifar_onnx_pynqz1.tmodel')"
   ]
  },
  {
   "cell_type": "markdown",
   "metadata": {},
   "source": [
    "# Dataset"
   ]
  },
  {
   "cell_type": "code",
   "execution_count": 36,
   "metadata": {},
   "outputs": [],
   "source": [
    "def unpickle(file):\n",
    "    with open(file, 'rb') as fo:\n",
    "        d = pickle.load(fo, encoding='bytes')\n",
    "    return d\n",
    "\n",
    "cifar = unpickle('/home/xilinx/cifar-10-batches-py/test_batch')\n",
    "data = cifar[b'data']\n",
    "labels = cifar[b'labels']\n",
    "\n",
    "data = data[10:20]\n",
    "labels = labels[10:20]\n",
    "\n",
    "data_norm = data.astype('float32') / 255\n",
    "data_mean = np.mean(data_norm, axis=0)\n",
    "data_norm -= data_mean\n",
    "\n",
    "cifar_meta = unpickle('/home/xilinx/cifar-10-batches-py/batches.meta')\n",
    "label_names = [b.decode() for b in cifar_meta[b'label_names']]\n",
    "\n",
    "def show_img(data, n):\n",
    "    plt.imshow(np.transpose(data[n].reshape((3, 32, 32)), axes=[1, 2, 0]))\n",
    "\n",
    "def get_img(data, n):\n",
    "    img = np.transpose(data_norm[n].reshape((3, 32, 32)), axes=[1, 2, 0])\n",
    "    img = np.pad(img, [(0, 0), (0, 0), (0, tcu.arch.array_size - 3)], 'constant', constant_values=0)\n",
    "    return img.reshape((-1, tcu.arch.array_size))\n",
    "\n",
    "def get_label(labels, label_names, n):\n",
    "    label_idx = labels[n]\n",
    "    name = label_names[label_idx]\n",
    "    return (label_idx, name)\n"
   ]
  },
  {
   "cell_type": "code",
   "execution_count": 37,
   "metadata": {},
   "outputs": [
    {
     "data": {
      "image/png": "[encoded data removed]",
      "text/plain": [
       "<matplotlib.figure.Figure at 0xae2a8030>"
      ]
     },
     "metadata": {},
     "output_type": "display_data"
    }
   ],
   "source": [
    "n = 8\n",
    "img = get_img(data, n)\n",
    "label_idx, label = get_label(labels, label_names, n)\n",
    "show_img(data, n)\n"
   ]
  },
  {
   "cell_type": "markdown",
   "metadata": {},
   "source": [
    "# Inference"
   ]
  },
  {
   "cell_type": "code",
   "execution_count": 39,
   "metadata": {},
   "outputs": [
    {
     "name": "stdout",
     "output_type": "stream",
     "text": [
      "Ran inference in 0.1831s\n",
      "\n",
      "Output activations:\n",
      "[ -1.03125     -5.3984375   -6.25        -9.0078125  -10.7734375\n",
      " -13.140625     1.4140625  -13.48046875   5.84765625  -4.671875  ]\n",
      "\n",
      "Result: ship (idx = 8)\n",
      "Actual: ship (idx = 8)\n"
     ]
    }
   ],
   "source": [
    "inputs = {'x:0': img}\n",
    "\n",
    "start = time.time()\n",
    "outputs = tcu.run(inputs)\n",
    "end = time.time()\n",
    "print(\"Ran inference in {:.4}s\".format(end - start))\n",
    "print()\n",
    "\n",
    "classes = outputs['Identity:0'][:10]\n",
    "result_idx = np.argmax(classes)\n",
    "result = label_names[result_idx]\n",
    "print(\"Output activations:\")\n",
    "print(classes)\n",
    "print()\n",
    "print(\"Result: {} (idx = {})\".format(result, result_idx))\n",
    "print(\"Actual: {} (idx = {})\".format(label, label_idx))\n"
   ]
  },
  {
   "cell_type": "code",
   "execution_count": null,
   "metadata": {},
   "outputs": [],
   "source": []
  },
  {
   "cell_type": "code",
   "execution_count": null,
   "metadata": {},
   "outputs": [],
   "source": []
  }
 ],
 "metadata": {
  "kernelspec": {
   "display_name": "Python 3",
   "language": "python",
   "name": "python3"
  },
  "language_info": {
   "codemirror_mode": {
    "name": "ipython",
    "version": 3
   },
   "file_extension": ".py",
   "mimetype": "text/x-python",
   "name": "python",
   "nbconvert_exporter": "python",
   "pygments_lexer": "ipython3",
   "version": "3.6.5"
  }
 },
 "nbformat": 4,
 "nbformat_minor": 2
}
